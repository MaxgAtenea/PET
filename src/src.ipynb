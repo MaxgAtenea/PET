{
 "cells": [
  {
   "cell_type": "code",
   "execution_count": null,
   "id": "2ea816a7-ea94-48e7-8f66-205e563463f2",
   "metadata": {},
   "outputs": [],
   "source": [
    "import csv\n",
    "import pandas as pd\n",
    "import os\n",
    "from IPython.display import display, HTML"
   ]
  },
  {
   "cell_type": "markdown",
   "id": "aa40ff54-2b37-4bc7-b39b-b45d9c0441a0",
   "metadata": {},
   "source": [
    "### Constantes"
   ]
  },
  {
   "cell_type": "code",
   "execution_count": null,
   "id": "72f28253-f1d1-4f10-9f04-5a360e0b89b9",
   "metadata": {},
   "outputs": [],
   "source": [
    "DATA_PATH = \"../data/Sample_Data/\""
   ]
  },
  {
   "cell_type": "markdown",
   "id": "b5b96958-1272-43d6-aed9-c9b538351ff4",
   "metadata": {},
   "source": [
    "### Lectura Datos"
   ]
  },
  {
   "cell_type": "code",
   "execution_count": null,
   "id": "8d2da018-ddeb-4488-b258-c2062f7b8fbc",
   "metadata": {},
   "outputs": [],
   "source": [
    "#Lectura de los datos raw\n",
    "sample_data_v8 = pd.read_csv(\n",
    "    f\"{DATA_PATH}/raw/sample_data_8.csv\",\n",
    "    encoding='latin1',\n",
    "    sep=\";\",\n",
    "    on_bad_lines='skip',\n",
    "    low_memory=False\n",
    ").head()\n",
    "\n",
    "#guardar la data procesada\n",
    "sample_data_v8.to_csv(f\"{DATA_PATH}/processed/sample_data_v8.csv\", index = False)"
   ]
  },
  {
   "cell_type": "code",
   "execution_count": null,
   "id": "c66b01a3-e0c1-4ebe-b169-c46e7a45ed88",
   "metadata": {},
   "outputs": [],
   "source": [
    "data = pd.read_csv(f\"{DATA_PATH}/processed/sample_data_v8.csv\")"
   ]
  },
  {
   "cell_type": "code",
   "execution_count": null,
   "id": "9945a798-a8cd-49e2-ace2-bb13557abc00",
   "metadata": {},
   "outputs": [],
   "source": [
    "data.head()"
   ]
  },
  {
   "cell_type": "markdown",
   "id": "a80f8752-a8fd-43e8-a7a9-7f1e53d6a27e",
   "metadata": {},
   "source": [
    "### Limpieza datos"
   ]
  },
  {
   "cell_type": "code",
   "execution_count": null,
   "id": "a508acf5-da33-47e4-b0be-71d81c248204",
   "metadata": {},
   "outputs": [],
   "source": [
    "#pasar nombre columnas a minúscula\n",
    "data.columns = data.columns.str.lower()\n",
    "\n",
    "# Lista de columnas con valores numéricos representados como texto con comas decimales\n",
    "cols_to_fix = [\n",
    "    'longitude_ideca',\n",
    "    'latitude_ideca',\n",
    "]\n",
    "\n",
    "# Reemplaza comas por puntos y convierte a float\n",
    "for col in cols_to_fix:\n",
    "    data[col] = data[col].str.replace(',', '.', regex=False).astype(float)"
   ]
  },
  {
   "cell_type": "code",
   "execution_count": null,
   "id": "dd002884-3e2a-462b-96aa-73bc10c7e107",
   "metadata": {},
   "outputs": [],
   "source": [
    "#convertir tipos de datos de manera segura\n",
    "data = data.convert_dtypes()"
   ]
  },
  {
   "cell_type": "markdown",
   "id": "1abb0f1e-2c3a-426c-bfdd-8293b4935b81",
   "metadata": {},
   "source": [
    "### Listar Columnas"
   ]
  },
  {
   "cell_type": "code",
   "execution_count": null,
   "id": "a9737fa4-dfd8-4a15-b7ba-17b2d149d6dc",
   "metadata": {
    "scrolled": true
   },
   "outputs": [],
   "source": [
    "# Create a summary DataFrame\n",
    "import pandas as pd\n",
    "\n",
    "# Create a summary DataFrame\n",
    "summary_df = pd.DataFrame({\n",
    "    'Column': data.columns,\n",
    "    'First Value': [data[col].iloc[0] for col in data.columns],\n",
    "    'Dtype': [data[col].dtype for col in data.columns]\n",
    "})\n",
    "\n",
    "# Convert Dtype column to string so it can be sorted\n",
    "summary_df['Dtype'] = summary_df['Dtype'].astype(str)\n",
    "\n",
    "# Sort by Dtype\n",
    "summary_df = summary_df.sort_values(by='Dtype').reset_index(drop=True)\n",
    "\n",
    "# Display with style\n",
    "summary_df.style.set_properties(**{\n",
    "    'font-weight': 'bold'\n",
    "}, subset=['Column']).set_table_attributes('style=\"width:100%\"')\n"
   ]
  },
  {
   "cell_type": "markdown",
   "id": "1efdd77a-ccff-4d2f-8e23-0f1a9e54e02d",
   "metadata": {},
   "source": [
    "Las columnas contienen informacion:\n",
    "\n",
    "- Socio demográfica\n",
    "- Puntajes Saber 11\n",
    "- Académica\n",
    "- Datos sensibles"
   ]
  },
  {
   "cell_type": "markdown",
   "id": "8ac09da8-81ac-41b1-bbe8-18287b2eb5c3",
   "metadata": {},
   "source": [
    "### Privacidad Diferencial"
   ]
  },
  {
   "cell_type": "code",
   "execution_count": null,
   "id": "1d0cd9bb-21a8-4734-838e-5e2322f09c1b",
   "metadata": {},
   "outputs": [],
   "source": [
    "import pydp as dp "
   ]
  },
  {
   "cell_type": "code",
   "execution_count": null,
   "id": "7c2717f6-c9e6-4581-ac1b-5d91f8f629ff",
   "metadata": {},
   "outputs": [],
   "source": [
    "c = [\n",
    "    'longitude-ideca',\n",
    "    'latitude_ideca',\n",
    "    'edad_del_calculo',\n",
    "    'sisben4_nivel',\n",
    "]"
   ]
  }
 ],
 "metadata": {
  "kernelspec": {
   "display_name": "Python 3 (ipykernel)",
   "language": "python",
   "name": "python3"
  },
  "language_info": {
   "codemirror_mode": {
    "name": "ipython",
    "version": 3
   },
   "file_extension": ".py",
   "mimetype": "text/x-python",
   "name": "python",
   "nbconvert_exporter": "python",
   "pygments_lexer": "ipython3",
   "version": "3.10.12"
  }
 },
 "nbformat": 4,
 "nbformat_minor": 5
}
